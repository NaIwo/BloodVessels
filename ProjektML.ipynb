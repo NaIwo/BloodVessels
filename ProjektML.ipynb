{
 "cells": [
  {
   "cell_type": "code",
   "execution_count": 2,
   "metadata": {},
   "outputs": [],
   "source": [
    "%matplotlib inline\n",
    "from skimage import io\n",
    "import numpy as np\n",
    "from matplotlib import pylab as plt\n",
    "from skimage.color import rgb2gray, rgb2hsv, hsv2rgb\n",
    "from skimage import img_as_float, img_as_ubyte\n",
    "from matplotlib.pyplot import plot\n",
    "from skimage.filters.edges import convolve\n",
    "import skimage.morphology as mp\n",
    "from skimage.filters import frangi, hessian\n",
    "from skimage.filters.edges import convolve\n",
    "from sklearn.metrics import confusion_matrix, accuracy_score, classification_report\n",
    "from scipy.stats.mstats import gmean\n",
    "import random \n",
    "from skimage.measure import moments_central, moments, moments_hu\n",
    "import pandas as pd\n",
    "from scipy import stats\n",
    "from os import listdir\n",
    "from os.path import isfile, join\n",
    "from sklearn.model_selection import train_test_split\n",
    "from skimage.transform import resize\n",
    "from skimage import img_as_bool\n",
    "import warnings\n",
    "from skimage.filters import threshold_local, unsharp_mask\n",
    "warnings.filterwarnings('ignore')"
   ]
  },
  {
   "cell_type": "markdown",
   "metadata": {},
   "source": [
    "## Wersja na 3.0"
   ]
  },
  {
   "cell_type": "code",
   "execution_count": 520,
   "metadata": {},
   "outputs": [],
   "source": [
    "class ImageProcessing:\n",
    "    def __init__(self, imageName, path = 'Foto', show = False):\n",
    "        self.imageName = imageName\n",
    "        self.originalImage = []\n",
    "        self.show = show\n",
    "\n",
    "        for img in self.imageName:\n",
    "            self.originalImage.append(io.imread(path + \"/\" + img))\n",
    "        self.changedImage = self.originalImage.copy()\n",
    "    def loadOriginal(self):\n",
    "         self.changedImage = self.originalImage.copy()\n",
    "    def plotHist(self):\n",
    "        fig = plt.figure(figsize = (5,5))\n",
    "        for img in self.originalImage:\n",
    "            ax = fig.add_subplot(111)\n",
    "            img = img_as_ubyte(img)\n",
    "            histo, x = np.histogram(img, range(0, 256), density=True)\n",
    "            ax.plot(histo)\n",
    "    def hsv(self):\n",
    "        for i, img in enumerate(self.changedImage):\n",
    "            img = rgb2hsv(img)\n",
    "            img[:,:,1] = 1\n",
    "            img[:,:,2] = img[:,:,2].mean() + img[:,:,2].std()\n",
    "            img = rgb2gray(hsv2rgb(img))\n",
    "            self.changedImage[i] = img\n",
    "            \n",
    "            if self.show:\n",
    "                io.imshow(img, cmap='gray')\n",
    "    def erosion(self, K):\n",
    "        for i, img in enumerate(self.changedImage):\n",
    "            self.changedImage[i] = mp.erosion(img, selem=K)\n",
    "            if self.show:\n",
    "                io.imshow(self.changedImage[i], cmap='gray')\n",
    "    def dilation(self):\n",
    "        for i, img in enumerate(self.changedImage):\n",
    "            self.changedImage[i] = mp.dilation(img)\n",
    "            if self.show:\n",
    "                io.imshow(self.changedImage[i], cmap='gray')\n",
    "    def __normalize_func(self, img, MAX, MIN):\n",
    "        changed = (img - MIN) / (MAX - MIN)\n",
    "        changed[changed[:,:] > 1] = 1\n",
    "        changed[changed[:,:] < 0] = 0\n",
    "        return changed  \n",
    "    def normMean(self):\n",
    "         for i, img in enumerate(self.changedImage):\n",
    "            MIN = img.mean() - img.std()\n",
    "            MAX = img.mean() + img.std()\n",
    "            self.changedImage[i] = self.__normalize_func(img, MAX, MIN)\n",
    "            if self.show:\n",
    "                io.imshow( self.changedImage[i], cmap='gray')\n",
    "    def normPercentile(self, perc = -1):\n",
    "        for i, img in enumerate(self.changedImage):\n",
    "            if perc == -1:\n",
    "                perc = img.mean() - img.std()\n",
    "            MIN = np.percentile(img, perc)\n",
    "            MAX = np.percentile(img, 100-perc)\n",
    "            self.changedImage[i] = self.__normalize_func(img, MAX, MIN)\n",
    "            if self.show:\n",
    "                io.imshow( self.changedImage[i], cmap='gray')\n",
    "    def gamma(self, power = True):\n",
    "        for i, img in enumerate(self.changedImage):\n",
    "            if power == True:\n",
    "                gamma = img.mean() + img.std()\n",
    "                self.changedImage[i] = img ** gamma\n",
    "            else:\n",
    "                img = img ** power\n",
    "                img[img > 255] = 255\n",
    "                img[img < 0] = 0\n",
    "                self.changedImage[i] = img\n",
    "            if self.show:\n",
    "                io.imshow( self.changedImage[i], cmap='gray')\n",
    "    def convolution(self, K):\n",
    "        K = K / sum(K)\n",
    "        for i, img in enumerate(self.changedImage):\n",
    "            self.changedImage[i] = convolve(img, K)\n",
    "            if self.show:\n",
    "                io.imshow(self.changedImage[i], cmap='gray')\n",
    "    def frangiFunc(self):\n",
    "        for i, img in enumerate(self.changedImage):\n",
    "            self.changedImage[i] = frangi(img)\n",
    "            if self.show:\n",
    "                io.imshow( self.changedImage[i], cmap='gray')\n",
    "    def binary(self):\n",
    "        for i, img in enumerate(self.changedImage):\n",
    "            binary = (img > np.percentile(img, 25)) \n",
    "            #binary = threshold_local(img, block_size = 25, method='gaussian')\n",
    "            binary = np.uint8(binary)\n",
    "            \n",
    "            #binary = unsharp_mask(binary, radius=2, amount=4.0)\n",
    "            #binary = (binary >  np.percentile(binary, 25)) \n",
    "            #binary = np.uint8(binary)\n",
    "            \n",
    "            \n",
    "            binary = mp.binary_dilation(binary)\n",
    "            #binary = mp.binary_erosion(binary, selem = np.ones((4,2)))\n",
    "            \n",
    "            K = np.ones((3,1))\n",
    "            binary = mp.binary_opening(binary,  K)\n",
    "            binary = mp.binary_erosion(binary,  K)\n",
    "            binary = mp.binary_erosion(binary,  K)\n",
    "            \n",
    "            binary = mp.binary_closing(binary,  K)\n",
    "        \n",
    "            binary = 1 - binary\n",
    "            binary = binary * 255\n",
    "            \n",
    "            self.changedImage[i] = binary\n",
    "            if self.show:\n",
    "                io.imshow( self.changedImage[i], cmap='gray')"
   ]
  },
  {
   "cell_type": "code",
   "execution_count": 521,
   "metadata": {},
   "outputs": [],
   "source": [
    "def runAll(obj, AI = False):\n",
    "    obj.hsv()\n",
    "    obj.erosion( K = np.array([[ 0, 1, 0],\n",
    "                                [ 1, 1, 1],\n",
    "                                [ 0, 1, 0]]))\n",
    "    obj.normMean()\n",
    "    obj.normPercentile()\n",
    "    obj.gamma()\n",
    "    \n",
    "    K =  4\n",
    "    obj.convolution(K = np.ones([K, K]))\n",
    "    #koniec wstępnego przetwarzania obrazu\n",
    "    if not AI: \n",
    "        obj.frangiFunc()\n",
    "        obj.normPercentile(perc = 5)\n",
    "        obj.convolution(K = np.ones([5,1]))\n",
    "        obj.erosion( K = np.array([[ 0, 1, 0],\n",
    "                                    [ 1, 1, 1],\n",
    "                                    [ 0, 1, 0]]))\n",
    "        obj.dilation()\n",
    "        \n",
    "        obj.gamma(-2)\n",
    "        obj.binary()"
   ]
  },
  {
   "cell_type": "code",
   "execution_count": 522,
   "metadata": {},
   "outputs": [],
   "source": [
    "def computeScore(changedImage, labeledImage, imageName):\n",
    "    sens = []\n",
    "    sp = []\n",
    "    acc = []\n",
    "    for binary, original, name in zip(changedImage, labeledImage, imageName):\n",
    "        print(str(name) + \": \\n\")\n",
    "            \n",
    "        matrix = confusion_matrix(original.ravel(), binary.ravel())\n",
    "        tn, fp, fn, tp = matrix.ravel()\n",
    "            \n",
    "        accu = accuracy_score(original.ravel(), binary.ravel())\n",
    "        acc.append(accu)\n",
    "        print(\"Accuracy score: \")\n",
    "        print(accu)\n",
    "        print(\"\\n\")\n",
    "            \n",
    "        sensitivity = tp / (tp + fn)\n",
    "        specificity = tn / (tn + fp)\n",
    "        sens.append(sensitivity)\n",
    "        sp.append(specificity)\n",
    "            \n",
    "        print(\"Sensitivity: \")\n",
    "        print(sensitivity)\n",
    "            \n",
    "        print(\"Specificity: \")\n",
    "        print(specificity)\n",
    "        print('--------------------')\n",
    "    print(\"\\n\")\n",
    "    print(\"Summary: \")\n",
    "    print(\"Mean sensitivity: \")\n",
    "    print(gmean(sens))\n",
    "            \n",
    "    print(\"Mean specificity: \")\n",
    "    print(gmean(sp))\n",
    "    print(\"Mean accuracy: \")\n",
    "    print(gmean(acc))\n",
    "    print(\"Confusion Matrix: \")\n",
    "    print(matrix)"
   ]
  },
  {
   "cell_type": "code",
   "execution_count": 523,
   "metadata": {},
   "outputs": [],
   "source": [
    "foto = ['im0001.ppm', 'im0162.ppm', 'im0003.ppm', 'im0236.ppm', 'im0163.ppm']\n",
    "label = ['im0001.ah.ppm', 'im0162.ah.ppm', 'im0003.ah.ppm', 'im0236.ah.ppm', 'im0163.ah.ppm']"
   ]
  },
  {
   "cell_type": "code",
   "execution_count": 524,
   "metadata": {},
   "outputs": [],
   "source": [
    "fot = ImageProcessing(foto, show = False)"
   ]
  },
  {
   "cell_type": "code",
   "execution_count": 525,
   "metadata": {},
   "outputs": [],
   "source": [
    "lab = ImageProcessing(label, path = 'AH', show = False)"
   ]
  },
  {
   "cell_type": "code",
   "execution_count": 526,
   "metadata": {},
   "outputs": [],
   "source": [
    "runAll(fot, AI = False)"
   ]
  },
  {
   "cell_type": "code",
   "execution_count": 527,
   "metadata": {},
   "outputs": [
    {
     "data": {
      "text/plain": [
       "<matplotlib.image.AxesImage at 0x14a569b8438>"
      ]
     },
     "execution_count": 527,
     "metadata": {},
     "output_type": "execute_result"
    },
    {
     "data": {
      "image/png": "[encoded data removed]",
      "text/plain": [
       "<Figure size 720x1080 with 2 Axes>"
      ]
     },
     "metadata": {
      "needs_background": "light"
     },
     "output_type": "display_data"
    }
   ],
   "source": [
    "plt.figure(figsize=(10,15))\n",
    "io.imshow(fot.changedImage[0], cmap = 'gray')"
   ]
  },
  {
   "cell_type": "code",
   "execution_count": 528,
   "metadata": {
    "scrolled": true
   },
   "outputs": [
    {
     "name": "stdout",
     "output_type": "stream",
     "text": [
      "im0001.ppm: \n",
      "\n",
      "Accuracy score: \n",
      "0.7902384887839433\n",
      "\n",
      "\n",
      "Sensitivity: \n",
      "0.8621852717536022\n",
      "Specificity: \n",
      "0.7839985014151876\n",
      "--------------------\n",
      "im0162.ppm: \n",
      "\n",
      "Accuracy score: \n",
      "0.7600708382526564\n",
      "\n",
      "\n",
      "Sensitivity: \n",
      "0.6789264413518886\n",
      "Specificity: \n",
      "0.7662971626156819\n",
      "--------------------\n",
      "im0003.ppm: \n",
      "\n",
      "Accuracy score: \n",
      "0.7725171192443919\n",
      "\n",
      "\n",
      "Sensitivity: \n",
      "0.8191359242454133\n",
      "Specificity: \n",
      "0.7695495472868606\n",
      "--------------------\n",
      "im0236.ppm: \n",
      "\n",
      "Accuracy score: \n",
      "0.7681487603305786\n",
      "\n",
      "\n",
      "Sensitivity: \n",
      "0.6641032325338895\n",
      "Specificity: \n",
      "0.7785117100275225\n",
      "--------------------\n",
      "im0163.ppm: \n",
      "\n",
      "Accuracy score: \n",
      "0.7711381345926801\n",
      "\n",
      "\n",
      "Sensitivity: \n",
      "0.7204665506396751\n",
      "Specificity: \n",
      "0.7753852217152187\n",
      "--------------------\n",
      "\n",
      "\n",
      "Summary: \n",
      "Mean sensitivity: \n",
      "0.7449476293805184\n",
      "Mean specificity: \n",
      "0.7747228067577037\n",
      "Mean accuracy: \n",
      "0.77235964645099\n",
      "Confusion Matrix: \n",
      "[[302981  87768]\n",
      " [  9155  23596]]\n"
     ]
    }
   ],
   "source": [
    "computeScore(fot.changedImage, lab.originalImage, foto)"
   ]
  },
  {
   "cell_type": "markdown",
   "metadata": {},
   "source": [
    "## Wersja na 4.0"
   ]
  },
  {
   "cell_type": "code",
   "execution_count": 11,
   "metadata": {},
   "outputs": [],
   "source": [
    "images = [f for f in listdir('Foto') if isfile(join('Foto', f))]"
   ]
  },
  {
   "cell_type": "code",
   "execution_count": 12,
   "metadata": {},
   "outputs": [],
   "source": [
    "labels = [f for f in listdir('AH') if isfile(join('AH', f))]\n",
    "labels.remove('desktop.ini')"
   ]
  },
  {
   "cell_type": "code",
   "execution_count": 13,
   "metadata": {},
   "outputs": [],
   "source": [
    "train_setI, test_setI = train_test_split(images, test_size = 0.2, random_state = 42)\n",
    "train_setI = train_setI[:8]"
   ]
  },
  {
   "cell_type": "code",
   "execution_count": 14,
   "metadata": {},
   "outputs": [],
   "source": [
    "train_setL, test_setL = train_test_split(labels, test_size = 0.2, random_state = 42)\n",
    "train_setL = train_setL[:8]"
   ]
  },
  {
   "cell_type": "code",
   "execution_count": 15,
   "metadata": {},
   "outputs": [],
   "source": [
    "class FeatureExtractor:\n",
    "    def __init__(self, trainFoto, label = [], cuts = []):\n",
    "        self.trainFoto = trainFoto\n",
    "        self.trainFotos = []\n",
    "        self.cuts = cuts\n",
    "        self.label = label\n",
    "        self.features = {}\n",
    "        random.seed(42)\n",
    "    def pointExtractor(self, perc = 0.65):\n",
    "        for i, im in enumerate(self.trainFoto):\n",
    "            positive = [(y, x) for y in range(2, 602) for x in range(2, 697) if self.label[i][y][x] != 0]\n",
    "            negative = [(y, x) for y in range(2, 602) for x in range(2, 697) if self.label[i][y][x] == 0]\n",
    "            X_c = im.shape[1] // 2\n",
    "            Y_c = im.shape[0] // 2\n",
    "            cut = []\n",
    "            \n",
    "            #samples = int(np.ceil(im.shape[0] * im.shape[1] * perc))\n",
    "            samples = int(np.ceil(np.sum(self.label[i] != 0) * perc))\n",
    "            \n",
    "            big = X_c  if X_c >= Y_c else Y_c\n",
    "\n",
    "            area = (np.pi * big**2) /  (im.shape[0] * im.shape[1])\n",
    "\n",
    "            \n",
    "            pos = random.sample(positive, samples)\n",
    "            neg = random.sample(negative, samples)\n",
    "            cut = pos + neg\n",
    "    \n",
    "            random.shuffle(cut)\n",
    "            #for i in range(samples):\n",
    "            #    y = random.randint(2, im.shape[0]-3)\n",
    "            #    x = random.randint(2, im.shape[1]-3)\n",
    "            #    while (y,x) in cut:\n",
    "            #        y = random.randint(2, im.shape[0]-3)\n",
    "            #        x = random.randint(2, im.shape[1]-3)\n",
    "            #    cut.append((y,x))\n",
    "            #(x**2 + y**2) > (big**2) or \n",
    "           \n",
    "            #for i in range(int(np.ceil((1 - area) * samples))):\n",
    "            #    y = random.randint(2, im.shape[0]-3)\n",
    "            #    x = random.randint(2, im.shape[1]-3)\n",
    "            #    while (x**2 + y**2) <= (big**2) or (y,x) in cut:\n",
    "            #        y = random.randint(2, im.shape[0]-2)\n",
    "            #        x = random.randint(2, im.shape[1]-2)\n",
    "            #    cut.append((y,x))\n",
    "                      \n",
    "            random.shuffle(cut)\n",
    "            self.cuts.append(cut)\n",
    "            \n",
    "    def getPixelValues(self):\n",
    "        centre = []\n",
    "        for i in range(len(self.trainFoto)):\n",
    "            for j in range(len(self.cuts[i])):\n",
    "                centre.append(self.trainFoto[i][self.cuts[i][j][0]][self.cuts[i][j][1]])\n",
    "        self.features['centre'] = centre\n",
    "        \n",
    "    def featureExtractor(self):\n",
    "        for j, im in enumerate(self.trainFoto):\n",
    "            self.trainFotos.append([im[self.cuts[j][i][0]-2:self.cuts[j][i][0]+3, self.cuts[j][i][1]-2:self.cuts[j][i][1]+3] \n",
    "                                    for i in range(len(self.cuts[j]))])\n",
    "        variation = []\n",
    "        central = []\n",
    "        hu = []\n",
    "        centre = []\n",
    "        region = []\n",
    "        distance = []\n",
    "        mean = []\n",
    "        \n",
    "        for i in range(len(self.trainFotos)):\n",
    "            \n",
    "            X_c = self.trainFoto[i].shape[1] // 2\n",
    "            Y_c = self.trainFoto[i].shape[0] // 2\n",
    "            R_c = self.trainFoto[i].shape[1] // 3\n",
    "            for j, image in enumerate(self.trainFotos[i]):\n",
    "                variation.append(np.var(image))\n",
    "                M = moments(image)\n",
    "                #centroid = (M[1, 0] / M[0, 0], M[0, 1] / M[0, 0])\n",
    "                #central.append(moments_central(image, centroid))\n",
    "                central.append(stats.moment(image, moment = 2 ,nan_policy = 'omit'))\n",
    "                hu.append(moments_hu(image))\n",
    "                centre.append(image[2][2])\n",
    "                \n",
    "                if self.cuts[i][j][0] <= R_c or self.cuts[i][j][0] >= R_c*2:\n",
    "                    region.append(0)\n",
    "                else:\n",
    "                    region.append(1)\n",
    "                \n",
    "                d = np.sqrt((self.cuts[i][j][1] - X_c)**2 + (self.cuts[i][j][0] - Y_c)**2)\n",
    "                distance.append(d)\n",
    "                mean.append(np.mean(image.mean()))\n",
    "        \n",
    "            \n",
    "        self.features['variation'] = variation\n",
    "        self.features['centralMoments'] = central\n",
    "        self.features['huMoments'] = hu\n",
    "        self.features['centre'] = centre\n",
    "        self.features['region'] = region\n",
    "        self.features['distance'] = distance\n",
    "        self.features['mean'] = mean\n",
    "        "
   ]
  },
  {
   "cell_type": "markdown",
   "metadata": {},
   "source": [
    "**Train preprocessing**"
   ]
  },
  {
   "cell_type": "code",
   "execution_count": 16,
   "metadata": {},
   "outputs": [],
   "source": [
    "trainProcessingObj = ImageProcessing(train_setI, show = False)"
   ]
  },
  {
   "cell_type": "code",
   "execution_count": 17,
   "metadata": {},
   "outputs": [],
   "source": [
    "trainProcessingObjLabel = ImageProcessing(train_setL, path = 'AH', show = False)"
   ]
  },
  {
   "cell_type": "markdown",
   "metadata": {},
   "source": [
    "**Test preprocessing**"
   ]
  },
  {
   "cell_type": "code",
   "execution_count": 18,
   "metadata": {},
   "outputs": [],
   "source": [
    "testProcessingObj = ImageProcessing(test_setI, show = False)"
   ]
  },
  {
   "cell_type": "code",
   "execution_count": 19,
   "metadata": {},
   "outputs": [],
   "source": [
    "testProcessingObjLabel = ImageProcessing(test_setL, path = 'AH', show = False)"
   ]
  },
  {
   "cell_type": "markdown",
   "metadata": {},
   "source": [
    "---"
   ]
  },
  {
   "cell_type": "code",
   "execution_count": 20,
   "metadata": {},
   "outputs": [],
   "source": [
    "runAll(trainProcessingObj, AI = True)"
   ]
  },
  {
   "cell_type": "code",
   "execution_count": 21,
   "metadata": {},
   "outputs": [],
   "source": [
    "runAll(testProcessingObj, AI = True)"
   ]
  },
  {
   "cell_type": "markdown",
   "metadata": {},
   "source": [
    "**Train Feature Extraction**"
   ]
  },
  {
   "cell_type": "code",
   "execution_count": 22,
   "metadata": {},
   "outputs": [],
   "source": [
    "trainFeatureObj = FeatureExtractor(trainProcessingObj.changedImage, trainProcessingObjLabel.originalImage)"
   ]
  },
  {
   "cell_type": "code",
   "execution_count": 23,
   "metadata": {},
   "outputs": [],
   "source": [
    "trainFeatureObj.pointExtractor(perc = 0.70)"
   ]
  },
  {
   "cell_type": "code",
   "execution_count": 24,
   "metadata": {},
   "outputs": [],
   "source": [
    "trainFeatureObj.featureExtractor()"
   ]
  },
  {
   "cell_type": "code",
   "execution_count": 25,
   "metadata": {},
   "outputs": [],
   "source": [
    "trainFeatureObjLabel = FeatureExtractor(trainProcessingObjLabel.originalImage, cuts = trainFeatureObj.cuts)"
   ]
  },
  {
   "cell_type": "code",
   "execution_count": 26,
   "metadata": {},
   "outputs": [],
   "source": [
    "trainFeatureObjLabel.getPixelValues()"
   ]
  },
  {
   "cell_type": "code",
   "execution_count": 27,
   "metadata": {},
   "outputs": [],
   "source": [
    "trainPD = pd.DataFrame(trainFeatureObj.features)"
   ]
  },
  {
   "cell_type": "code",
   "execution_count": 28,
   "metadata": {},
   "outputs": [],
   "source": [
    "trainLabelPD = pd.DataFrame(trainFeatureObjLabel.features)"
   ]
  },
  {
   "cell_type": "markdown",
   "metadata": {},
   "source": [
    "**Test Feature Extraction**"
   ]
  },
  {
   "cell_type": "code",
   "execution_count": 29,
   "metadata": {},
   "outputs": [],
   "source": [
    "cut = []\n",
    "for i in range(2, testProcessingObj.changedImage[0].shape[0]-2):\n",
    "    for j in range(2, testProcessingObj.changedImage[0].shape[1]-2):\n",
    "        cut.append((i, j))"
   ]
  },
  {
   "cell_type": "code",
   "execution_count": 30,
   "metadata": {},
   "outputs": [],
   "source": [
    "testFeatureObj = FeatureExtractor(testProcessingObj.changedImage, cuts = [cut] * len(testProcessingObj.changedImage))"
   ]
  },
  {
   "cell_type": "code",
   "execution_count": 31,
   "metadata": {},
   "outputs": [],
   "source": [
    "testFeatureObj.featureExtractor()"
   ]
  },
  {
   "cell_type": "code",
   "execution_count": 32,
   "metadata": {},
   "outputs": [],
   "source": [
    "testFeatureObjLabel = FeatureExtractor(testProcessingObjLabel.originalImage, cuts = testFeatureObj.cuts)"
   ]
  },
  {
   "cell_type": "code",
   "execution_count": 33,
   "metadata": {},
   "outputs": [],
   "source": [
    "testFeatureObjLabel.getPixelValues()"
   ]
  },
  {
   "cell_type": "code",
   "execution_count": 34,
   "metadata": {},
   "outputs": [],
   "source": [
    "testPD = pd.DataFrame(testFeatureObj.features)"
   ]
  },
  {
   "cell_type": "code",
   "execution_count": 35,
   "metadata": {},
   "outputs": [],
   "source": [
    "testLabelPD = pd.DataFrame(testFeatureObjLabel.features)"
   ]
  },
  {
   "cell_type": "markdown",
   "metadata": {},
   "source": [
    "---"
   ]
  },
  {
   "cell_type": "code",
   "execution_count": 36,
   "metadata": {},
   "outputs": [],
   "source": [
    "def datasetNormalizer(label, datasetPD, parameter):\n",
    "    datasetPD[label]  = pd.DataFrame(datasetPD[parameter].values.tolist(), index = datasetPD.index)\n",
    "    datasetPD.drop(parameter, axis = 1, inplace = True)"
   ]
  },
  {
   "cell_type": "markdown",
   "metadata": {},
   "source": [
    "**Normalize data**"
   ]
  },
  {
   "cell_type": "code",
   "execution_count": 37,
   "metadata": {},
   "outputs": [],
   "source": [
    "datasetNormalizer(['central1', 'central2', 'central3', 'central4', 'central5'], trainPD, 'centralMoments')\n",
    "datasetNormalizer(['hu1', 'hu2', 'hu3', 'hu4', 'hu5', 'hu6', 'hu7'], trainPD, 'huMoments')"
   ]
  },
  {
   "cell_type": "code",
   "execution_count": 38,
   "metadata": {},
   "outputs": [],
   "source": [
    "datasetNormalizer(['central1', 'central2', 'central3', 'central4', 'central5'], testPD, 'centralMoments')\n",
    "datasetNormalizer(['hu1', 'hu2', 'hu3', 'hu4', 'hu5', 'hu6', 'hu7'], testPD, 'huMoments')"
   ]
  },
  {
   "cell_type": "code",
   "execution_count": 39,
   "metadata": {},
   "outputs": [
    {
     "data": {
      "text/html": [
       "<div>\n",
       "<style scoped>\n",
       "    .dataframe tbody tr th:only-of-type {\n",
       "        vertical-align: middle;\n",
       "    }\n",
       "\n",
       "    .dataframe tbody tr th {\n",
       "        vertical-align: top;\n",
       "    }\n",
       "\n",
       "    .dataframe thead th {\n",
       "        text-align: right;\n",
       "    }\n",
       "</style>\n",
       "<table border=\"1\" class=\"dataframe\">\n",
       "  <thead>\n",
       "    <tr style=\"text-align: right;\">\n",
       "      <th></th>\n",
       "      <th>variation</th>\n",
       "      <th>centre</th>\n",
       "      <th>region</th>\n",
       "      <th>distance</th>\n",
       "      <th>mean</th>\n",
       "      <th>central1</th>\n",
       "      <th>central2</th>\n",
       "      <th>central3</th>\n",
       "      <th>central4</th>\n",
       "      <th>central5</th>\n",
       "      <th>hu1</th>\n",
       "      <th>hu2</th>\n",
       "      <th>hu3</th>\n",
       "      <th>hu4</th>\n",
       "      <th>hu5</th>\n",
       "      <th>hu6</th>\n",
       "      <th>hu7</th>\n",
       "    </tr>\n",
       "  </thead>\n",
       "  <tbody>\n",
       "    <tr>\n",
       "      <th>0</th>\n",
       "      <td>0.000297</td>\n",
       "      <td>2.381246</td>\n",
       "      <td>0</td>\n",
       "      <td>279.708777</td>\n",
       "      <td>2.363946</td>\n",
       "      <td>0.000516</td>\n",
       "      <td>0.000408</td>\n",
       "      <td>0.000400</td>\n",
       "      <td>0.000075</td>\n",
       "      <td>0.000049</td>\n",
       "      <td>4.713985</td>\n",
       "      <td>22.319411</td>\n",
       "      <td>45.343445</td>\n",
       "      <td>45.058523</td>\n",
       "      <td>2036.676873</td>\n",
       "      <td>212.866084</td>\n",
       "      <td>-3.262036</td>\n",
       "    </tr>\n",
       "    <tr>\n",
       "      <th>1</th>\n",
       "      <td>0.000000</td>\n",
       "      <td>0.000000</td>\n",
       "      <td>0</td>\n",
       "      <td>306.819165</td>\n",
       "      <td>0.000000</td>\n",
       "      <td>0.000000</td>\n",
       "      <td>0.000000</td>\n",
       "      <td>0.000000</td>\n",
       "      <td>0.000000</td>\n",
       "      <td>0.000000</td>\n",
       "      <td>0.000000</td>\n",
       "      <td>0.000000</td>\n",
       "      <td>0.000000</td>\n",
       "      <td>0.000000</td>\n",
       "      <td>0.000000</td>\n",
       "      <td>0.000000</td>\n",
       "      <td>0.000000</td>\n",
       "    </tr>\n",
       "    <tr>\n",
       "      <th>2</th>\n",
       "      <td>0.038627</td>\n",
       "      <td>2.724727</td>\n",
       "      <td>0</td>\n",
       "      <td>272.611445</td>\n",
       "      <td>2.655240</td>\n",
       "      <td>0.005707</td>\n",
       "      <td>0.010885</td>\n",
       "      <td>0.022294</td>\n",
       "      <td>0.043960</td>\n",
       "      <td>0.064141</td>\n",
       "      <td>5.221030</td>\n",
       "      <td>29.049733</td>\n",
       "      <td>61.276746</td>\n",
       "      <td>54.870561</td>\n",
       "      <td>3181.641966</td>\n",
       "      <td>295.740267</td>\n",
       "      <td>16.214262</td>\n",
       "    </tr>\n",
       "    <tr>\n",
       "      <th>3</th>\n",
       "      <td>0.009112</td>\n",
       "      <td>2.186250</td>\n",
       "      <td>0</td>\n",
       "      <td>317.238081</td>\n",
       "      <td>2.211297</td>\n",
       "      <td>0.000657</td>\n",
       "      <td>0.002621</td>\n",
       "      <td>0.005247</td>\n",
       "      <td>0.008028</td>\n",
       "      <td>0.009361</td>\n",
       "      <td>4.210886</td>\n",
       "      <td>17.947145</td>\n",
       "      <td>36.584334</td>\n",
       "      <td>36.336691</td>\n",
       "      <td>1324.795989</td>\n",
       "      <td>153.935109</td>\n",
       "      <td>-11.595307</td>\n",
       "    </tr>\n",
       "    <tr>\n",
       "      <th>4</th>\n",
       "      <td>0.375666</td>\n",
       "      <td>0.590357</td>\n",
       "      <td>1</td>\n",
       "      <td>279.692688</td>\n",
       "      <td>0.717842</td>\n",
       "      <td>0.065205</td>\n",
       "      <td>0.081266</td>\n",
       "      <td>0.062564</td>\n",
       "      <td>0.020452</td>\n",
       "      <td>0.000866</td>\n",
       "      <td>2.623043</td>\n",
       "      <td>7.817272</td>\n",
       "      <td>9.730517</td>\n",
       "      <td>7.603418</td>\n",
       "      <td>65.376050</td>\n",
       "      <td>21.199426</td>\n",
       "      <td>1.789373</td>\n",
       "    </tr>\n",
       "    <tr>\n",
       "      <th>5</th>\n",
       "      <td>0.750716</td>\n",
       "      <td>3.629336</td>\n",
       "      <td>0</td>\n",
       "      <td>410.358380</td>\n",
       "      <td>2.870096</td>\n",
       "      <td>0.476067</td>\n",
       "      <td>0.452510</td>\n",
       "      <td>0.485361</td>\n",
       "      <td>0.609163</td>\n",
       "      <td>0.933010</td>\n",
       "      <td>4.343374</td>\n",
       "      <td>22.817487</td>\n",
       "      <td>90.219788</td>\n",
       "      <td>57.641328</td>\n",
       "      <td>4153.173805</td>\n",
       "      <td>273.331119</td>\n",
       "      <td>171.918637</td>\n",
       "    </tr>\n",
       "    <tr>\n",
       "      <th>6</th>\n",
       "      <td>0.018425</td>\n",
       "      <td>2.750381</td>\n",
       "      <td>0</td>\n",
       "      <td>127.015747</td>\n",
       "      <td>2.867843</td>\n",
       "      <td>0.020336</td>\n",
       "      <td>0.017563</td>\n",
       "      <td>0.014868</td>\n",
       "      <td>0.015606</td>\n",
       "      <td>0.023244</td>\n",
       "      <td>5.614158</td>\n",
       "      <td>29.893900</td>\n",
       "      <td>57.020955</td>\n",
       "      <td>62.854988</td>\n",
       "      <td>3762.822783</td>\n",
       "      <td>343.478064</td>\n",
       "      <td>29.227825</td>\n",
       "    </tr>\n",
       "    <tr>\n",
       "      <th>7</th>\n",
       "      <td>0.002747</td>\n",
       "      <td>3.410029</td>\n",
       "      <td>1</td>\n",
       "      <td>115.433964</td>\n",
       "      <td>3.385933</td>\n",
       "      <td>0.002320</td>\n",
       "      <td>0.002062</td>\n",
       "      <td>0.001037</td>\n",
       "      <td>0.000329</td>\n",
       "      <td>0.000303</td>\n",
       "      <td>6.857995</td>\n",
       "      <td>47.791445</td>\n",
       "      <td>95.332718</td>\n",
       "      <td>92.724640</td>\n",
       "      <td>8717.326274</td>\n",
       "      <td>640.995236</td>\n",
       "      <td>103.184987</td>\n",
       "    </tr>\n",
       "    <tr>\n",
       "      <th>8</th>\n",
       "      <td>0.000000</td>\n",
       "      <td>0.000000</td>\n",
       "      <td>0</td>\n",
       "      <td>401.109711</td>\n",
       "      <td>0.000000</td>\n",
       "      <td>0.000000</td>\n",
       "      <td>0.000000</td>\n",
       "      <td>0.000000</td>\n",
       "      <td>0.000000</td>\n",
       "      <td>0.000000</td>\n",
       "      <td>0.000000</td>\n",
       "      <td>0.000000</td>\n",
       "      <td>0.000000</td>\n",
       "      <td>0.000000</td>\n",
       "      <td>0.000000</td>\n",
       "      <td>0.000000</td>\n",
       "      <td>0.000000</td>\n",
       "    </tr>\n",
       "    <tr>\n",
       "      <th>9</th>\n",
       "      <td>0.020417</td>\n",
       "      <td>2.674237</td>\n",
       "      <td>0</td>\n",
       "      <td>252.071418</td>\n",
       "      <td>2.649011</td>\n",
       "      <td>0.021634</td>\n",
       "      <td>0.011811</td>\n",
       "      <td>0.006015</td>\n",
       "      <td>0.002169</td>\n",
       "      <td>0.000602</td>\n",
       "      <td>5.040213</td>\n",
       "      <td>25.030797</td>\n",
       "      <td>53.627330</td>\n",
       "      <td>54.745814</td>\n",
       "      <td>2966.322830</td>\n",
       "      <td>273.894934</td>\n",
       "      <td>6.543411</td>\n",
       "    </tr>\n",
       "  </tbody>\n",
       "</table>\n",
       "</div>"
      ],
      "text/plain": [
       "   variation    centre  region    distance      mean  central1  central2  \\\n",
       "0   0.000297  2.381246       0  279.708777  2.363946  0.000516  0.000408   \n",
       "1   0.000000  0.000000       0  306.819165  0.000000  0.000000  0.000000   \n",
       "2   0.038627  2.724727       0  272.611445  2.655240  0.005707  0.010885   \n",
       "3   0.009112  2.186250       0  317.238081  2.211297  0.000657  0.002621   \n",
       "4   0.375666  0.590357       1  279.692688  0.717842  0.065205  0.081266   \n",
       "5   0.750716  3.629336       0  410.358380  2.870096  0.476067  0.452510   \n",
       "6   0.018425  2.750381       0  127.015747  2.867843  0.020336  0.017563   \n",
       "7   0.002747  3.410029       1  115.433964  3.385933  0.002320  0.002062   \n",
       "8   0.000000  0.000000       0  401.109711  0.000000  0.000000  0.000000   \n",
       "9   0.020417  2.674237       0  252.071418  2.649011  0.021634  0.011811   \n",
       "\n",
       "   central3  central4  central5       hu1        hu2        hu3        hu4  \\\n",
       "0  0.000400  0.000075  0.000049  4.713985  22.319411  45.343445  45.058523   \n",
       "1  0.000000  0.000000  0.000000  0.000000   0.000000   0.000000   0.000000   \n",
       "2  0.022294  0.043960  0.064141  5.221030  29.049733  61.276746  54.870561   \n",
       "3  0.005247  0.008028  0.009361  4.210886  17.947145  36.584334  36.336691   \n",
       "4  0.062564  0.020452  0.000866  2.623043   7.817272   9.730517   7.603418   \n",
       "5  0.485361  0.609163  0.933010  4.343374  22.817487  90.219788  57.641328   \n",
       "6  0.014868  0.015606  0.023244  5.614158  29.893900  57.020955  62.854988   \n",
       "7  0.001037  0.000329  0.000303  6.857995  47.791445  95.332718  92.724640   \n",
       "8  0.000000  0.000000  0.000000  0.000000   0.000000   0.000000   0.000000   \n",
       "9  0.006015  0.002169  0.000602  5.040213  25.030797  53.627330  54.745814   \n",
       "\n",
       "           hu5         hu6         hu7  \n",
       "0  2036.676873  212.866084   -3.262036  \n",
       "1     0.000000    0.000000    0.000000  \n",
       "2  3181.641966  295.740267   16.214262  \n",
       "3  1324.795989  153.935109  -11.595307  \n",
       "4    65.376050   21.199426    1.789373  \n",
       "5  4153.173805  273.331119  171.918637  \n",
       "6  3762.822783  343.478064   29.227825  \n",
       "7  8717.326274  640.995236  103.184987  \n",
       "8     0.000000    0.000000    0.000000  \n",
       "9  2966.322830  273.894934    6.543411  "
      ]
     },
     "execution_count": 39,
     "metadata": {},
     "output_type": "execute_result"
    }
   ],
   "source": [
    "pd.DataFrame(trainPD).head(10)"
   ]
  },
  {
   "cell_type": "code",
   "execution_count": 40,
   "metadata": {},
   "outputs": [
    {
     "data": {
      "text/html": [
       "<div>\n",
       "<style scoped>\n",
       "    .dataframe tbody tr th:only-of-type {\n",
       "        vertical-align: middle;\n",
       "    }\n",
       "\n",
       "    .dataframe tbody tr th {\n",
       "        vertical-align: top;\n",
       "    }\n",
       "\n",
       "    .dataframe thead th {\n",
       "        text-align: right;\n",
       "    }\n",
       "</style>\n",
       "<table border=\"1\" class=\"dataframe\">\n",
       "  <thead>\n",
       "    <tr style=\"text-align: right;\">\n",
       "      <th></th>\n",
       "      <th>variation</th>\n",
       "      <th>centre</th>\n",
       "      <th>region</th>\n",
       "      <th>distance</th>\n",
       "      <th>mean</th>\n",
       "      <th>central1</th>\n",
       "      <th>central2</th>\n",
       "      <th>central3</th>\n",
       "      <th>central4</th>\n",
       "      <th>central5</th>\n",
       "      <th>hu1</th>\n",
       "      <th>hu2</th>\n",
       "      <th>hu3</th>\n",
       "      <th>hu4</th>\n",
       "      <th>hu5</th>\n",
       "      <th>hu6</th>\n",
       "      <th>hu7</th>\n",
       "    </tr>\n",
       "  </thead>\n",
       "  <tbody>\n",
       "    <tr>\n",
       "      <th>0</th>\n",
       "      <td>0.0</td>\n",
       "      <td>0.0</td>\n",
       "      <td>0</td>\n",
       "      <td>459.460553</td>\n",
       "      <td>0.0</td>\n",
       "      <td>0.0</td>\n",
       "      <td>0.0</td>\n",
       "      <td>0.0</td>\n",
       "      <td>0.0</td>\n",
       "      <td>0.0</td>\n",
       "      <td>0.0</td>\n",
       "      <td>0.0</td>\n",
       "      <td>0.0</td>\n",
       "      <td>0.0</td>\n",
       "      <td>0.0</td>\n",
       "      <td>0.0</td>\n",
       "      <td>0.0</td>\n",
       "    </tr>\n",
       "    <tr>\n",
       "      <th>1</th>\n",
       "      <td>0.0</td>\n",
       "      <td>0.0</td>\n",
       "      <td>0</td>\n",
       "      <td>458.703608</td>\n",
       "      <td>0.0</td>\n",
       "      <td>0.0</td>\n",
       "      <td>0.0</td>\n",
       "      <td>0.0</td>\n",
       "      <td>0.0</td>\n",
       "      <td>0.0</td>\n",
       "      <td>0.0</td>\n",
       "      <td>0.0</td>\n",
       "      <td>0.0</td>\n",
       "      <td>0.0</td>\n",
       "      <td>0.0</td>\n",
       "      <td>0.0</td>\n",
       "      <td>0.0</td>\n",
       "    </tr>\n",
       "    <tr>\n",
       "      <th>2</th>\n",
       "      <td>0.0</td>\n",
       "      <td>0.0</td>\n",
       "      <td>0</td>\n",
       "      <td>457.947595</td>\n",
       "      <td>0.0</td>\n",
       "      <td>0.0</td>\n",
       "      <td>0.0</td>\n",
       "      <td>0.0</td>\n",
       "      <td>0.0</td>\n",
       "      <td>0.0</td>\n",
       "      <td>0.0</td>\n",
       "      <td>0.0</td>\n",
       "      <td>0.0</td>\n",
       "      <td>0.0</td>\n",
       "      <td>0.0</td>\n",
       "      <td>0.0</td>\n",
       "      <td>0.0</td>\n",
       "    </tr>\n",
       "  </tbody>\n",
       "</table>\n",
       "</div>"
      ],
      "text/plain": [
       "   variation  centre  region    distance  mean  central1  central2  central3  \\\n",
       "0        0.0     0.0       0  459.460553   0.0       0.0       0.0       0.0   \n",
       "1        0.0     0.0       0  458.703608   0.0       0.0       0.0       0.0   \n",
       "2        0.0     0.0       0  457.947595   0.0       0.0       0.0       0.0   \n",
       "\n",
       "   central4  central5  hu1  hu2  hu3  hu4  hu5  hu6  hu7  \n",
       "0       0.0       0.0  0.0  0.0  0.0  0.0  0.0  0.0  0.0  \n",
       "1       0.0       0.0  0.0  0.0  0.0  0.0  0.0  0.0  0.0  \n",
       "2       0.0       0.0  0.0  0.0  0.0  0.0  0.0  0.0  0.0  "
      ]
     },
     "execution_count": 40,
     "metadata": {},
     "output_type": "execute_result"
    }
   ],
   "source": [
    "testPD.head(3)"
   ]
  },
  {
   "cell_type": "code",
   "execution_count": 41,
   "metadata": {},
   "outputs": [
    {
     "data": {
      "text/html": [
       "<div>\n",
       "<style scoped>\n",
       "    .dataframe tbody tr th:only-of-type {\n",
       "        vertical-align: middle;\n",
       "    }\n",
       "\n",
       "    .dataframe tbody tr th {\n",
       "        vertical-align: top;\n",
       "    }\n",
       "\n",
       "    .dataframe thead th {\n",
       "        text-align: right;\n",
       "    }\n",
       "</style>\n",
       "<table border=\"1\" class=\"dataframe\">\n",
       "  <thead>\n",
       "    <tr style=\"text-align: right;\">\n",
       "      <th></th>\n",
       "      <th>centre</th>\n",
       "    </tr>\n",
       "  </thead>\n",
       "  <tbody>\n",
       "    <tr>\n",
       "      <th>0</th>\n",
       "      <td>0</td>\n",
       "    </tr>\n",
       "    <tr>\n",
       "      <th>1</th>\n",
       "      <td>0</td>\n",
       "    </tr>\n",
       "    <tr>\n",
       "      <th>2</th>\n",
       "      <td>0</td>\n",
       "    </tr>\n",
       "  </tbody>\n",
       "</table>\n",
       "</div>"
      ],
      "text/plain": [
       "   centre\n",
       "0       0\n",
       "1       0\n",
       "2       0"
      ]
     },
     "execution_count": 41,
     "metadata": {},
     "output_type": "execute_result"
    }
   ],
   "source": [
    "trainLabelPD.head(3)"
   ]
  },
  {
   "cell_type": "code",
   "execution_count": 42,
   "metadata": {},
   "outputs": [
    {
     "data": {
      "text/html": [
       "<div>\n",
       "<style scoped>\n",
       "    .dataframe tbody tr th:only-of-type {\n",
       "        vertical-align: middle;\n",
       "    }\n",
       "\n",
       "    .dataframe tbody tr th {\n",
       "        vertical-align: top;\n",
       "    }\n",
       "\n",
       "    .dataframe thead th {\n",
       "        text-align: right;\n",
       "    }\n",
       "</style>\n",
       "<table border=\"1\" class=\"dataframe\">\n",
       "  <thead>\n",
       "    <tr style=\"text-align: right;\">\n",
       "      <th></th>\n",
       "      <th>centre</th>\n",
       "    </tr>\n",
       "  </thead>\n",
       "  <tbody>\n",
       "    <tr>\n",
       "      <th>0</th>\n",
       "      <td>0</td>\n",
       "    </tr>\n",
       "    <tr>\n",
       "      <th>1</th>\n",
       "      <td>0</td>\n",
       "    </tr>\n",
       "    <tr>\n",
       "      <th>2</th>\n",
       "      <td>0</td>\n",
       "    </tr>\n",
       "  </tbody>\n",
       "</table>\n",
       "</div>"
      ],
      "text/plain": [
       "   centre\n",
       "0       0\n",
       "1       0\n",
       "2       0"
      ]
     },
     "execution_count": 42,
     "metadata": {},
     "output_type": "execute_result"
    }
   ],
   "source": [
    "testLabelPD.head(3)"
   ]
  },
  {
   "cell_type": "markdown",
   "metadata": {},
   "source": [
    "**Save Data**"
   ]
  },
  {
   "cell_type": "code",
   "execution_count": 43,
   "metadata": {},
   "outputs": [],
   "source": [
    "trainPD.to_csv('trainFeatures5.csv', index = False)\n",
    "trainLabelPD.to_csv('trainlabelFeatures5.csv', index = False)\n",
    "testPD.to_csv('testFeatures5.csv', index = False)\n",
    "testLabelPD.to_csv('testlabelFeatures5.csv', index = False)"
   ]
  },
  {
   "cell_type": "markdown",
   "metadata": {},
   "source": [
    "---"
   ]
  },
  {
   "cell_type": "code",
   "execution_count": 44,
   "metadata": {},
   "outputs": [],
   "source": [
    "from sklearn.neighbors import KNeighborsClassifier\n",
    "from sklearn.ensemble import RandomForestClassifier\n",
    "\n",
    "from sklearn.impute import SimpleImputer\n",
    "from sklearn.metrics import accuracy_score\n",
    "from sklearn.model_selection import GridSearchCV, cross_val_score, RandomizedSearchCV\n",
    "from sklearn.metrics import roc_auc_score\n",
    "from sklearn.externals import joblib"
   ]
  },
  {
   "cell_type": "markdown",
   "metadata": {},
   "source": [
    "## Postprocessing"
   ]
  },
  {
   "cell_type": "code",
   "execution_count": 329,
   "metadata": {},
   "outputs": [],
   "source": [
    "def postprocessing(final_prediction):\n",
    "    returned = []\n",
    "    for i in range(4):\n",
    "        a = 700 - 4\n",
    "        b = 605 - 4\n",
    "        K= np.ones((3,1))\n",
    "        fragment = final_prediction[a*b*i:(i+1)*a*b]\n",
    "        \n",
    "        #K = np.array([[ 0, 1, 0],\n",
    "        #                        [ 1, 1, 1],\n",
    "        #                        [ 0, 1, 0]])\n",
    "        \n",
    "        fragment = np.array(fragment.reshape(-1,696))\n",
    "        fragment = mp.binary_opening(fragment,  K)\n",
    "        fragment = mp.binary_erosion(fragment,  K)\n",
    "        fragment = mp.binary_closing(fragment,  K)\n",
    "        #fragment = mp.binary_erosion(fragment,  K)\n",
    "        fragment = (fragment)*255\n",
    "        returned = returned + list(fragment.ravel())\n",
    "    return returned"
   ]
  },
  {
   "cell_type": "markdown",
   "metadata": {},
   "source": [
    "---"
   ]
  },
  {
   "cell_type": "markdown",
   "metadata": {},
   "source": [
    "## Model KNN"
   ]
  },
  {
   "cell_type": "markdown",
   "metadata": {},
   "source": [
    "---"
   ]
  },
  {
   "cell_type": "code",
   "execution_count": null,
   "metadata": {},
   "outputs": [],
   "source": [
    "from sklearn.externals import joblib\n",
    "neigh_dump = joblib.load('KNNmodel.pkl')\n",
    "forest_dump = joblib.load('ForsetModel.pkl')\n",
    "\n",
    "trainPD = pd.read_csv('trainFeatures2.csv')\n",
    "trainLabelPD = pd.read_csv('trainlabelFeatures2.csv')\n",
    "testPD = pd.read_csv('testFeatures2.csv')\n",
    "testLabelPD = pd.read_csv('testlabelFeatures2.csv')"
   ]
  },
  {
   "cell_type": "code",
   "execution_count": 332,
   "metadata": {},
   "outputs": [],
   "source": [
    "neigh_dump = joblib.load('KNNmodel2.pkl')"
   ]
  },
  {
   "cell_type": "code",
   "execution_count": 7,
   "metadata": {},
   "outputs": [
    {
     "data": {
      "text/plain": [
       "(1673184, 17)"
      ]
     },
     "execution_count": 7,
     "metadata": {},
     "output_type": "execute_result"
    }
   ],
   "source": [
    "testPD.shape"
   ]
  },
  {
   "cell_type": "markdown",
   "metadata": {},
   "source": [
    "---"
   ]
  },
  {
   "cell_type": "code",
   "execution_count": 46,
   "metadata": {},
   "outputs": [],
   "source": [
    "imputer = SimpleImputer(strategy = 'most_frequent')"
   ]
  },
  {
   "cell_type": "code",
   "execution_count": 47,
   "metadata": {},
   "outputs": [],
   "source": [
    "trainPDm = imputer.fit_transform(trainPD)"
   ]
  },
  {
   "cell_type": "markdown",
   "metadata": {},
   "source": [
    "---"
   ]
  },
  {
   "cell_type": "code",
   "execution_count": null,
   "metadata": {},
   "outputs": [],
   "source": [
    "param_grid = [{'n_neighbors' : [2,3,5]}]"
   ]
  },
  {
   "cell_type": "code",
   "execution_count": null,
   "metadata": {},
   "outputs": [],
   "source": [
    "gridSearch = GridSearchCV(KNeighborsClassifier(), param_grid, cv = 5)"
   ]
  },
  {
   "cell_type": "code",
   "execution_count": null,
   "metadata": {},
   "outputs": [],
   "source": [
    "grid_search = gridSearch.fit(trainPDm, np.array(trainLabelPD).ravel())"
   ]
  },
  {
   "cell_type": "code",
   "execution_count": null,
   "metadata": {},
   "outputs": [],
   "source": [
    "grid_search.best_params_"
   ]
  },
  {
   "cell_type": "code",
   "execution_count": null,
   "metadata": {},
   "outputs": [],
   "source": [
    "neigh = grid_search.best_estimator_"
   ]
  },
  {
   "cell_type": "code",
   "execution_count": null,
   "metadata": {},
   "outputs": [],
   "source": [
    "grid_search.best_score_"
   ]
  },
  {
   "cell_type": "markdown",
   "metadata": {},
   "source": [
    "---"
   ]
  },
  {
   "cell_type": "code",
   "execution_count": 48,
   "metadata": {},
   "outputs": [],
   "source": [
    "neigh_dump = KNeighborsClassifier(n_neighbors = 3)"
   ]
  },
  {
   "cell_type": "code",
   "execution_count": 49,
   "metadata": {},
   "outputs": [
    {
     "name": "stdout",
     "output_type": "stream",
     "text": [
      "[0.70273181 0.7135278  0.7216371 ]\n"
     ]
    }
   ],
   "source": [
    "valScoreN = cross_val_score(neigh_dump, trainPDm, np.array(trainLabelPD).ravel(), cv = 3)\n",
    "print(valScoreN)"
   ]
  },
  {
   "cell_type": "code",
   "execution_count": 50,
   "metadata": {},
   "outputs": [
    {
     "data": {
      "text/plain": [
       "KNeighborsClassifier(algorithm='auto', leaf_size=30, metric='minkowski',\n",
       "                     metric_params=None, n_jobs=None, n_neighbors=3, p=2,\n",
       "                     weights='uniform')"
      ]
     },
     "execution_count": 50,
     "metadata": {},
     "output_type": "execute_result"
    }
   ],
   "source": [
    "neigh_dump.fit(trainPDm, np.array(trainLabelPD).ravel())"
   ]
  },
  {
   "cell_type": "code",
   "execution_count": 51,
   "metadata": {},
   "outputs": [
    {
     "data": {
      "text/plain": [
       "['KNNmodel3.pkl']"
      ]
     },
     "execution_count": 51,
     "metadata": {},
     "output_type": "execute_result"
    }
   ],
   "source": [
    "joblib.dump(neigh_dump, 'KNNmodel2.pkl')"
   ]
  },
  {
   "cell_type": "markdown",
   "metadata": {},
   "source": [
    "---"
   ]
  },
  {
   "cell_type": "code",
   "execution_count": 52,
   "metadata": {},
   "outputs": [],
   "source": [
    "testPDm = imputer.transform(testPD)"
   ]
  },
  {
   "cell_type": "code",
   "execution_count": 84,
   "metadata": {},
   "outputs": [],
   "source": [
    "final_prediction = neigh_dump.predict(testPDm)"
   ]
  },
  {
   "cell_type": "code",
   "execution_count": 318,
   "metadata": {},
   "outputs": [
    {
     "data": {
      "image/png": "[encoded data removed]",
      "text/plain": [
       "<Figure size 432x288 with 2 Axes>"
      ]
     },
     "metadata": {
      "needs_background": "light"
     },
     "output_type": "display_data"
    }
   ],
   "source": [
    "final = postprocessing(final_prediction)"
   ]
  },
  {
   "cell_type": "code",
   "execution_count": 325,
   "metadata": {},
   "outputs": [],
   "source": [
    "accuracy = accuracy_score(np.array(testLabelPD), final)"
   ]
  },
  {
   "cell_type": "code",
   "execution_count": 326,
   "metadata": {},
   "outputs": [],
   "source": [
    "matrix = confusion_matrix(np.array(testLabelPD), final)\n",
    "tn, fp, fn, tp = matrix.ravel()"
   ]
  },
  {
   "cell_type": "code",
   "execution_count": 327,
   "metadata": {},
   "outputs": [
    {
     "name": "stdout",
     "output_type": "stream",
     "text": [
      "Sensitivity: \n",
      "0.6130659613942289\n",
      "Specificity: \n",
      "0.8303027638199078\n",
      "[[1284079  262440]\n",
      " [  49011   77654]]\n"
     ]
    }
   ],
   "source": [
    "sensitivity = tp / (tp + fn)\n",
    "specificity = tn / (tn + fp)\n",
    "            \n",
    "print(\"Sensitivity: \")\n",
    "print(sensitivity)\n",
    "            \n",
    "print(\"Specificity: \")\n",
    "print(specificity)\n",
    "\n",
    "print(matrix)"
   ]
  },
  {
   "cell_type": "code",
   "execution_count": 328,
   "metadata": {},
   "outputs": [
    {
     "data": {
      "text/plain": [
       "0.8138572924436285"
      ]
     },
     "execution_count": 328,
     "metadata": {},
     "output_type": "execute_result"
    }
   ],
   "source": [
    "accuracy"
   ]
  },
  {
   "cell_type": "markdown",
   "metadata": {},
   "source": [
    "---"
   ]
  },
  {
   "cell_type": "markdown",
   "metadata": {},
   "source": [
    "## Na 5.0"
   ]
  },
  {
   "cell_type": "code",
   "execution_count": 56,
   "metadata": {},
   "outputs": [],
   "source": [
    "imputer = SimpleImputer(strategy = 'most_frequent')"
   ]
  },
  {
   "cell_type": "code",
   "execution_count": 57,
   "metadata": {},
   "outputs": [],
   "source": [
    "trainPDm = imputer.fit_transform(trainPD)"
   ]
  },
  {
   "cell_type": "markdown",
   "metadata": {},
   "source": [
    "---"
   ]
  },
  {
   "cell_type": "code",
   "execution_count": null,
   "metadata": {},
   "outputs": [],
   "source": [
    "param_grid_Forest = [{'n_estimators' : [30,60,100], 'min_samples_split' : [2,3,5]},\n",
    "             {'bootstrap':[False], 'n_estimators' : [30,60,100], 'min_samples_split' : [2,3,5]}]"
   ]
  },
  {
   "cell_type": "code",
   "execution_count": null,
   "metadata": {},
   "outputs": [],
   "source": [
    "gridSearchForest=RandomizedSearchCV(RandomForestClassifier(),param_grid_Forest,cv=5,n_iter=48)"
   ]
  },
  {
   "cell_type": "code",
   "execution_count": null,
   "metadata": {},
   "outputs": [],
   "source": [
    "gridSearchForest.fit(trainPDm, np.array(trainLabelPD).ravel())\n",
    "joblib.dump(gridSearchForest.best_estimator_, 'ForestModel.pkl')"
   ]
  },
  {
   "cell_type": "code",
   "execution_count": null,
   "metadata": {},
   "outputs": [],
   "source": [
    "gridSearchForest.best_params_"
   ]
  },
  {
   "cell_type": "code",
   "execution_count": null,
   "metadata": {},
   "outputs": [],
   "source": [
    "forest = gridSearchForest.best_estimator_"
   ]
  },
  {
   "cell_type": "code",
   "execution_count": null,
   "metadata": {},
   "outputs": [],
   "source": [
    "gridSearchForest.best_score_"
   ]
  },
  {
   "cell_type": "markdown",
   "metadata": {},
   "source": [
    "---"
   ]
  },
  {
   "cell_type": "code",
   "execution_count": 59,
   "metadata": {},
   "outputs": [],
   "source": [
    "forest_dump = RandomForestClassifier(n_estimators = 100, min_samples_leaf = 2)"
   ]
  },
  {
   "cell_type": "code",
   "execution_count": 60,
   "metadata": {},
   "outputs": [
    {
     "name": "stdout",
     "output_type": "stream",
     "text": [
      "[0.83733413 0.83239664 0.86116852]\n"
     ]
    }
   ],
   "source": [
    "valScoreF = cross_val_score(forest_dump, trainPDm, np.array(trainLabelPD).ravel(), cv = 3)\n",
    "print(valScoreF)"
   ]
  },
  {
   "cell_type": "code",
   "execution_count": 61,
   "metadata": {},
   "outputs": [
    {
     "data": {
      "text/plain": [
       "RandomForestClassifier(bootstrap=True, ccp_alpha=0.0, class_weight=None,\n",
       "                       criterion='gini', max_depth=None, max_features='auto',\n",
       "                       max_leaf_nodes=None, max_samples=None,\n",
       "                       min_impurity_decrease=0.0, min_impurity_split=None,\n",
       "                       min_samples_leaf=2, min_samples_split=2,\n",
       "                       min_weight_fraction_leaf=0.0, n_estimators=100,\n",
       "                       n_jobs=None, oob_score=False, random_state=None,\n",
       "                       verbose=0, warm_start=False)"
      ]
     },
     "execution_count": 61,
     "metadata": {},
     "output_type": "execute_result"
    }
   ],
   "source": [
    "forest_dump.fit(trainPDm, np.array(trainLabelPD).ravel())"
   ]
  },
  {
   "cell_type": "code",
   "execution_count": 62,
   "metadata": {},
   "outputs": [
    {
     "data": {
      "text/plain": [
       "['ForsetModel3.pkl']"
      ]
     },
     "execution_count": 62,
     "metadata": {},
     "output_type": "execute_result"
    }
   ],
   "source": [
    "joblib.dump(forest_dump, 'ForsetModel2.pkl')"
   ]
  },
  {
   "cell_type": "markdown",
   "metadata": {},
   "source": [
    "---"
   ]
  },
  {
   "cell_type": "code",
   "execution_count": 61,
   "metadata": {},
   "outputs": [],
   "source": [
    "testPDm = imputer.transform(testPD)"
   ]
  },
  {
   "cell_type": "code",
   "execution_count": 91,
   "metadata": {},
   "outputs": [],
   "source": [
    "final_predictionForest = forest_dump.predict(testPDm)"
   ]
  },
  {
   "cell_type": "code",
   "execution_count": 333,
   "metadata": {},
   "outputs": [
    {
     "data": {
      "image/png": "[encoded data removed]",
      "text/plain": [
       "<Figure size 432x288 with 2 Axes>"
      ]
     },
     "metadata": {
      "needs_background": "light"
     },
     "output_type": "display_data"
    }
   ],
   "source": [
    "finalF = postprocessing(final_predictionForest)"
   ]
  },
  {
   "cell_type": "code",
   "execution_count": 334,
   "metadata": {},
   "outputs": [],
   "source": [
    "accuracy = accuracy_score(np.array(testLabelPD), finalF)"
   ]
  },
  {
   "cell_type": "code",
   "execution_count": 335,
   "metadata": {},
   "outputs": [],
   "source": [
    "matrix = confusion_matrix(np.array(testLabelPD), finalF)\n",
    "tn, fp, fn, tp = matrix.ravel()"
   ]
  },
  {
   "cell_type": "code",
   "execution_count": 336,
   "metadata": {},
   "outputs": [
    {
     "name": "stdout",
     "output_type": "stream",
     "text": [
      "Sensitivity: \n",
      "0.8113290964354795\n",
      "Specificity: \n",
      "0.835727204127463\n",
      "[[1292468  254051]\n",
      " [  23898  102767]]\n"
     ]
    }
   ],
   "source": [
    "sensitivity = tp / (tp + fn)\n",
    "specificity = tn / (tn + fp)\n",
    "            \n",
    "print(\"Sensitivity: \")\n",
    "print(sensitivity)\n",
    "            \n",
    "print(\"Specificity: \")\n",
    "print(specificity)\n",
    "\n",
    "print(matrix)"
   ]
  },
  {
   "cell_type": "code",
   "execution_count": 337,
   "metadata": {},
   "outputs": [
    {
     "data": {
      "text/plain": [
       "0.8338801948859181"
      ]
     },
     "execution_count": 337,
     "metadata": {},
     "output_type": "execute_result"
    }
   ],
   "source": [
    "accuracy"
   ]
  },
  {
   "cell_type": "code",
   "execution_count": 6,
   "metadata": {},
   "outputs": [
    {
     "data": {
      "text/plain": [
       "<matplotlib.image.AxesImage at 0x1bd27d01f98>"
      ]
     },
     "execution_count": 6,
     "metadata": {},
     "output_type": "execute_result"
    },
    {
     "data": {
      "image/png": "[encoded data removed]",
      "text/plain": [
       "<Figure size 432x288 with 1 Axes>"
      ]
     },
     "metadata": {
      "needs_background": "light"
     },
     "output_type": "display_data"
    }
   ],
   "source": [
    "io.imshow(io.imread('Foto/im0324.ppm'))"
   ]
  }
 ],
 "metadata": {
  "kernelspec": {
   "display_name": "Python 3",
   "language": "python",
   "name": "python3"
  },
  "language_info": {
   "codemirror_mode": {
    "name": "ipython",
    "version": 3
   },
   "file_extension": ".py",
   "mimetype": "text/x-python",
   "name": "python",
   "nbconvert_exporter": "python",
   "pygments_lexer": "ipython3",
   "version": "3.6.8"
  }
 },
 "nbformat": 4,
 "nbformat_minor": 4
}
